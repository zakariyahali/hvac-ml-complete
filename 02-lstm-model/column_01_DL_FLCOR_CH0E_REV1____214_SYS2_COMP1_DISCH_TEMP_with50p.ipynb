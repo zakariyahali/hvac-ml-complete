{
  "nbformat": 4,
  "nbformat_minor": 0,
  "metadata": {
    "colab": {
      "provenance": []
    },
    "kernelspec": {
      "name": "python3",
      "display_name": "Python 3"
    },
    "language_info": {
      "name": "python"
    }
  },
  "cells": [
    {
      "cell_type": "code",
      "execution_count": 109,
      "metadata": {
        "id": "x5wYqJ9fax93"
      },
      "outputs": [],
      "source": [
        "import numpy as np\n",
        "import pandas as pd\n",
        "from keras.models import Sequential\n",
        "from keras.layers import LSTM, Dense, Input\n",
        "from sklearn.preprocessing import MinMaxScaler\n",
        "import matplotlib.pyplot as plt"
      ]
    },
    {
      "cell_type": "code",
      "source": [
        "sampled_data = pd.read_csv('./sampled_data_reduced_50.csv')"
      ],
      "metadata": {
        "id": "Fifu9eZ_btYH"
      },
      "execution_count": 110,
      "outputs": []
    },
    {
      "cell_type": "code",
      "source": [
        "feature = '01_DL_FLCOR_CH0E_REV1_ > 214_SYS2_COMP1_DISCH_TEMP'\n",
        "sampled_data[feature]\n",
        "print(\"NaN values per column before preprocessing:\", sampled_data.isna().sum())\n"
      ],
      "metadata": {
        "colab": {
          "base_uri": "https://localhost:8080/"
        },
        "id": "H75R546-bt3q",
        "outputId": "7318f0b2-7e16-40ab-b9e4-9856247ea18b"
      },
      "execution_count": 111,
      "outputs": [
        {
          "output_type": "stream",
          "name": "stdout",
          "text": [
            "NaN values per column before preprocessing: TIME                                                   0\n",
            "01_DL_FLCOR_CH0E_REV1_ > 001_ECHW_TMP                  0\n",
            "01_DL_FLCOR_CH0E_REV1_ > 002_LCHW_TEMP                 0\n",
            "01_DL_FLCOR_CH0E_REV1_ > 003_CHW_PMP1_ENA              0\n",
            "01_DL_FLCOR_CH0E_REV1_ > 005_CHW_FLO                   0\n",
            "01_DL_FLCOR_CH0E_REV1_ > 064_CHLR_ENA                  0\n",
            "01_DL_FLCOR_CH0E_REV1_ > 067_CW_SP                     0\n",
            "01_DL_FLCOR_CH0E_REV1_ > 072_MACHINE_CAP               0\n",
            "01_DL_FLCOR_CH0E_REV1_ > 073_AMB_TMP_DB                0\n",
            "01_DL_FLCOR_CH0E_REV1_ > 078_SYS1_SUC_PRESS            0\n",
            "01_DL_FLCOR_CH0E_REV1_ > 079_SYS1_SUCT_TSAT            0\n",
            "01_DL_FLCOR_CH0E_REV1_ > 080_SYS1_DISH_PRESS           0\n",
            "01_DL_FLCOR_CH0E_REV1_ > 081_SYS1_SAT_DISCH_TEMP       0\n",
            "01_DL_FLCOR_CH0E_REV1_ > 084_SYS1_SYS_CAP              0\n",
            "01_DL_FLCOR_CH0E_REV1_ > 085_SYS1_EEV_EVAP_STEPS       0\n",
            "01_DL_FLCOR_CH0E_REV1_ > 087_SYS1_COND_FAN_OP          0\n",
            "01_DL_FLCOR_CH0E_REV1_ > 090_SYS1_LIQ_LINE_TMP2        0\n",
            "01_DL_FLCOR_CH0E_REV1_ > 101_SYS1_EVAP_APPR            0\n",
            "01_DL_FLCOR_CH0E_REV1_ > 103_SYS1_LIQ_SUBCLG           0\n",
            "01_DL_FLCOR_CH0E_REV1_ > 106_SYS1_COMP1_ENA            0\n",
            "01_DL_FLCOR_CH0E_REV1_ > 113_SYS1_COMP1_SUCT_TEMP      0\n",
            "01_DL_FLCOR_CH0E_REV1_ > 114_SYS1_COMP1_DISCH_TEMP     0\n",
            "01_DL_FLCOR_CH0E_REV1_ > 115_SYS1_COMP1_SUCT_SHEAT     0\n",
            "01_DL_FLCOR_CH0E_REV1_ > 116_SYS1_COMP1_DISCH_SHEAT    0\n",
            "01_DL_FLCOR_CH0E_REV1_ > 124_SYS1_COMP2_ENA            0\n",
            "01_DL_FLCOR_CH0E_REV1_ > 142_SYS1_COMP3_ENA            0\n",
            "01_DL_FLCOR_CH0E_REV1_ > 178_SYS2_SUC_PRESS            0\n",
            "01_DL_FLCOR_CH0E_REV1_ > 179_SYS2_SUCT_TSAT            0\n",
            "01_DL_FLCOR_CH0E_REV1_ > 180_SYS2_DISH_PRESS           0\n",
            "01_DL_FLCOR_CH0E_REV1_ > 181_SYS2_SAT_DISCH_TEMP       0\n",
            "01_DL_FLCOR_CH0E_REV1_ > 184_SYS2_SYS_CAP              0\n",
            "01_DL_FLCOR_CH0E_REV1_ > 185_SYS2_EEV_EVAP_STEPS       0\n",
            "01_DL_FLCOR_CH0E_REV1_ > 187_SYS2_COND_FAN_OP          0\n",
            "01_DL_FLCOR_CH0E_REV1_ > 190_SYS2_LIQ_LINE_TMP2        0\n",
            "01_DL_FLCOR_CH0E_REV1_ > 201_SYS2_EVAP_APPR            0\n",
            "01_DL_FLCOR_CH0E_REV1_ > 203_SYS2_LIQ_SUBCLG           0\n",
            "01_DL_FLCOR_CH0E_REV1_ > 206_SYS2_COMP1_ENA            0\n",
            "01_DL_FLCOR_CH0E_REV1_ > 213_SYS2_COMP1_SUCT_TEMP      0\n",
            "01_DL_FLCOR_CH0E_REV1_ > 214_SYS2_COMP1_DISCH_TEMP     0\n",
            "01_DL_FLCOR_CH0E_REV1_ > 215_SYS2_COMP1_SUCT_SHEAT     0\n",
            "01_DL_FLCOR_CH0E_REV1_ > 216_SYS2_COMP1_DISCH_SHEAT    0\n",
            "01_DL_FLCOR_CH0E_REV1_ > 224_SYS2_COMP2_ENA            0\n",
            "01_DL_FLCOR_CH0E_REV1_ > 242_SYS2_COMP3_ENA            0\n",
            "02_CAREL_LINK_IO > 006_CHW_FLO_RATE                    0\n",
            "02_CAREL_LINK_IO > 110_SYS1_COMP1_AMPS                 0\n",
            "02_CAREL_LINK_IO > 128_SYS1_COMP2_AMPS                 0\n",
            "02_CAREL_LINK_IO > 146_SYS1_COMP3_AMPS                 0\n",
            "02_CAREL_LINK_IO > 210_SYS2_COMP1_AMPS                 0\n",
            "02_CAREL_LINK_IO > 228_SYS2_COMP2_AMPS                 0\n",
            "02_CAREL_LINK_IO > 246_SYS2_COMP3_AMPS                 0\n",
            "dtype: int64\n"
          ]
        }
      ]
    },
    {
      "cell_type": "code",
      "source": [
        "feature = '01_DL_FLCOR_CH0E_REV1_ > 214_SYS2_COMP1_DISCH_TEMP'\n",
        "sampled_data[feature] = pd.to_numeric(sampled_data[feature], errors='coerce')\n",
        "sampled_data.ffill(inplace=True)  # forward fill to handle remaining NaNs\n",
        "\n",
        "print(\"NaN values per column after preprocessing:\", sampled_data.isna().sum())\n"
      ],
      "metadata": {
        "colab": {
          "base_uri": "https://localhost:8080/"
        },
        "id": "wga4dM49buAn",
        "outputId": "82fdebb0-80cb-4124-fcf3-e3314d91da86"
      },
      "execution_count": 112,
      "outputs": [
        {
          "output_type": "stream",
          "name": "stdout",
          "text": [
            "NaN values per column after preprocessing: TIME                                                   0\n",
            "01_DL_FLCOR_CH0E_REV1_ > 001_ECHW_TMP                  0\n",
            "01_DL_FLCOR_CH0E_REV1_ > 002_LCHW_TEMP                 0\n",
            "01_DL_FLCOR_CH0E_REV1_ > 003_CHW_PMP1_ENA              0\n",
            "01_DL_FLCOR_CH0E_REV1_ > 005_CHW_FLO                   0\n",
            "01_DL_FLCOR_CH0E_REV1_ > 064_CHLR_ENA                  0\n",
            "01_DL_FLCOR_CH0E_REV1_ > 067_CW_SP                     0\n",
            "01_DL_FLCOR_CH0E_REV1_ > 072_MACHINE_CAP               0\n",
            "01_DL_FLCOR_CH0E_REV1_ > 073_AMB_TMP_DB                0\n",
            "01_DL_FLCOR_CH0E_REV1_ > 078_SYS1_SUC_PRESS            0\n",
            "01_DL_FLCOR_CH0E_REV1_ > 079_SYS1_SUCT_TSAT            0\n",
            "01_DL_FLCOR_CH0E_REV1_ > 080_SYS1_DISH_PRESS           0\n",
            "01_DL_FLCOR_CH0E_REV1_ > 081_SYS1_SAT_DISCH_TEMP       0\n",
            "01_DL_FLCOR_CH0E_REV1_ > 084_SYS1_SYS_CAP              0\n",
            "01_DL_FLCOR_CH0E_REV1_ > 085_SYS1_EEV_EVAP_STEPS       0\n",
            "01_DL_FLCOR_CH0E_REV1_ > 087_SYS1_COND_FAN_OP          0\n",
            "01_DL_FLCOR_CH0E_REV1_ > 090_SYS1_LIQ_LINE_TMP2        0\n",
            "01_DL_FLCOR_CH0E_REV1_ > 101_SYS1_EVAP_APPR            0\n",
            "01_DL_FLCOR_CH0E_REV1_ > 103_SYS1_LIQ_SUBCLG           0\n",
            "01_DL_FLCOR_CH0E_REV1_ > 106_SYS1_COMP1_ENA            0\n",
            "01_DL_FLCOR_CH0E_REV1_ > 113_SYS1_COMP1_SUCT_TEMP      0\n",
            "01_DL_FLCOR_CH0E_REV1_ > 114_SYS1_COMP1_DISCH_TEMP     0\n",
            "01_DL_FLCOR_CH0E_REV1_ > 115_SYS1_COMP1_SUCT_SHEAT     0\n",
            "01_DL_FLCOR_CH0E_REV1_ > 116_SYS1_COMP1_DISCH_SHEAT    0\n",
            "01_DL_FLCOR_CH0E_REV1_ > 124_SYS1_COMP2_ENA            0\n",
            "01_DL_FLCOR_CH0E_REV1_ > 142_SYS1_COMP3_ENA            0\n",
            "01_DL_FLCOR_CH0E_REV1_ > 178_SYS2_SUC_PRESS            0\n",
            "01_DL_FLCOR_CH0E_REV1_ > 179_SYS2_SUCT_TSAT            0\n",
            "01_DL_FLCOR_CH0E_REV1_ > 180_SYS2_DISH_PRESS           0\n",
            "01_DL_FLCOR_CH0E_REV1_ > 181_SYS2_SAT_DISCH_TEMP       0\n",
            "01_DL_FLCOR_CH0E_REV1_ > 184_SYS2_SYS_CAP              0\n",
            "01_DL_FLCOR_CH0E_REV1_ > 185_SYS2_EEV_EVAP_STEPS       0\n",
            "01_DL_FLCOR_CH0E_REV1_ > 187_SYS2_COND_FAN_OP          0\n",
            "01_DL_FLCOR_CH0E_REV1_ > 190_SYS2_LIQ_LINE_TMP2        0\n",
            "01_DL_FLCOR_CH0E_REV1_ > 201_SYS2_EVAP_APPR            0\n",
            "01_DL_FLCOR_CH0E_REV1_ > 203_SYS2_LIQ_SUBCLG           0\n",
            "01_DL_FLCOR_CH0E_REV1_ > 206_SYS2_COMP1_ENA            0\n",
            "01_DL_FLCOR_CH0E_REV1_ > 213_SYS2_COMP1_SUCT_TEMP      0\n",
            "01_DL_FLCOR_CH0E_REV1_ > 214_SYS2_COMP1_DISCH_TEMP     0\n",
            "01_DL_FLCOR_CH0E_REV1_ > 215_SYS2_COMP1_SUCT_SHEAT     0\n",
            "01_DL_FLCOR_CH0E_REV1_ > 216_SYS2_COMP1_DISCH_SHEAT    0\n",
            "01_DL_FLCOR_CH0E_REV1_ > 224_SYS2_COMP2_ENA            0\n",
            "01_DL_FLCOR_CH0E_REV1_ > 242_SYS2_COMP3_ENA            0\n",
            "02_CAREL_LINK_IO > 006_CHW_FLO_RATE                    0\n",
            "02_CAREL_LINK_IO > 110_SYS1_COMP1_AMPS                 0\n",
            "02_CAREL_LINK_IO > 128_SYS1_COMP2_AMPS                 0\n",
            "02_CAREL_LINK_IO > 146_SYS1_COMP3_AMPS                 0\n",
            "02_CAREL_LINK_IO > 210_SYS2_COMP1_AMPS                 0\n",
            "02_CAREL_LINK_IO > 228_SYS2_COMP2_AMPS                 0\n",
            "02_CAREL_LINK_IO > 246_SYS2_COMP3_AMPS                 0\n",
            "dtype: int64\n"
          ]
        }
      ]
    },
    {
      "cell_type": "code",
      "source": [
        "# Normalize data\n",
        "scaler = MinMaxScaler(feature_range=(0, 1))\n",
        "dataset_scaled = scaler.fit_transform(sampled_data[[feature]])\n"
      ],
      "metadata": {
        "id": "jjDKpMIebuKR"
      },
      "execution_count": 113,
      "outputs": []
    },
    {
      "cell_type": "code",
      "source": [
        "# Create dataset function\n",
        "def create_dataset(dataset, look_back=1):\n",
        "    X, Y = [], []\n",
        "    for i in range(len(dataset)-look_back-1):\n",
        "        a = dataset[i:(i+look_back), 0]\n",
        "        X.append(a)\n",
        "        Y.append(dataset[i + look_back, 0])\n",
        "    return np.array(X), np.array(Y)"
      ],
      "metadata": {
        "id": "XOuA7FrsbuS9"
      },
      "execution_count": 114,
      "outputs": []
    },
    {
      "cell_type": "code",
      "source": [
        "look_back = 10\n",
        "X, Y = create_dataset(dataset_scaled, look_back)\n",
        "\n",
        "# Check the shape of X and Y after dataset creation\n",
        "print(\"Shape of X:\", X.shape)\n",
        "print(\"Shape of Y:\", Y.shape)"
      ],
      "metadata": {
        "colab": {
          "base_uri": "https://localhost:8080/"
        },
        "id": "nTSfvWZXb687",
        "outputId": "9e6ca231-f4cd-4fc7-ada6-7495af70dc06"
      },
      "execution_count": 115,
      "outputs": [
        {
          "output_type": "stream",
          "name": "stdout",
          "text": [
            "Shape of X: (310135, 10)\n",
            "Shape of Y: (310135,)\n"
          ]
        }
      ]
    },
    {
      "cell_type": "code",
      "source": [
        "# Reshape input\n",
        "X = np.reshape(X, (X.shape[0], look_back, 1))\n",
        "# Split into train and test sets\n",
        "train_size = int(len(X) * 0.8)\n",
        "X_train, X_test = X[:train_size], X[train_size:]\n",
        "Y_train, Y_test = Y[:train_size], Y[train_size:]"
      ],
      "metadata": {
        "id": "Qf1mqWpAb7ND"
      },
      "execution_count": 116,
      "outputs": []
    },
    {
      "cell_type": "code",
      "source": [
        "# Create and fit the LSTM network\n",
        "model = Sequential()\n",
        "model.add(Input(shape=(look_back, 1)))\n",
        "model.add(LSTM(25, return_sequences=True))\n",
        "model.add(LSTM(25))\n",
        "model.add(Dense(1))\n",
        "model.compile(loss='mean_squared_error', optimizer='adam')\n",
        "model.fit(X_train, Y_train, epochs=10, batch_size=32, verbose=2)"
      ],
      "metadata": {
        "colab": {
          "base_uri": "https://localhost:8080/"
        },
        "id": "_Z9WBgJyb7UN",
        "outputId": "7f5a29c6-2aff-4134-ec4b-5c792984c00b"
      },
      "execution_count": 117,
      "outputs": [
        {
          "output_type": "stream",
          "name": "stdout",
          "text": [
            "Epoch 1/10\n",
            "7754/7754 - 77s - loss: 0.0552 - 77s/epoch - 10ms/step\n",
            "Epoch 2/10\n",
            "7754/7754 - 73s - loss: 0.0545 - 73s/epoch - 9ms/step\n",
            "Epoch 3/10\n",
            "7754/7754 - 71s - loss: 0.0544 - 71s/epoch - 9ms/step\n",
            "Epoch 4/10\n",
            "7754/7754 - 72s - loss: 0.0544 - 72s/epoch - 9ms/step\n",
            "Epoch 5/10\n",
            "7754/7754 - 72s - loss: 0.0544 - 72s/epoch - 9ms/step\n",
            "Epoch 6/10\n",
            "7754/7754 - 72s - loss: 0.0544 - 72s/epoch - 9ms/step\n",
            "Epoch 7/10\n",
            "7754/7754 - 71s - loss: 0.0544 - 71s/epoch - 9ms/step\n",
            "Epoch 8/10\n",
            "7754/7754 - 71s - loss: 0.0544 - 71s/epoch - 9ms/step\n",
            "Epoch 9/10\n",
            "7754/7754 - 72s - loss: 0.0544 - 72s/epoch - 9ms/step\n",
            "Epoch 10/10\n",
            "7754/7754 - 70s - loss: 0.0544 - 70s/epoch - 9ms/step\n"
          ]
        },
        {
          "output_type": "execute_result",
          "data": {
            "text/plain": [
              "<keras.src.callbacks.History at 0x78dc55a38c40>"
            ]
          },
          "metadata": {},
          "execution_count": 117
        }
      ]
    },
    {
      "cell_type": "code",
      "source": [
        "# Make predictions\n",
        "train_predict = model.predict(X_train)\n",
        "test_predict = model.predict(X_test)"
      ],
      "metadata": {
        "colab": {
          "base_uri": "https://localhost:8080/"
        },
        "id": "_dw5T_lsb7bu",
        "outputId": "ad5208a1-30ca-4894-8058-260dcd602703"
      },
      "execution_count": 118,
      "outputs": [
        {
          "output_type": "stream",
          "name": "stdout",
          "text": [
            "7754/7754 [==============================] - 29s 4ms/step\n",
            "1939/1939 [==============================] - 7s 4ms/step\n"
          ]
        }
      ]
    },
    {
      "cell_type": "code",
      "source": [
        "# Inverse transform predictions\n",
        "train_predict = scaler.inverse_transform(train_predict)\n",
        "test_predict = scaler.inverse_transform(test_predict)"
      ],
      "metadata": {
        "id": "-3r1QQ9bcBD8"
      },
      "execution_count": 119,
      "outputs": []
    },
    {
      "cell_type": "code",
      "source": [
        "# Inverse transform actual values\n",
        "Y_train = scaler.inverse_transform([Y_train]).flatten()\n",
        "Y_test = scaler.inverse_transform([Y_test]).flatten()"
      ],
      "metadata": {
        "id": "QWoqpn4GcBRw"
      },
      "execution_count": 120,
      "outputs": []
    },
    {
      "cell_type": "code",
      "source": [
        "# Plotting\n",
        "plt.figure(figsize=(14, 7))\n",
        "plt.plot(scaler.inverse_transform(dataset_scaled), label='Original Data')\n",
        "plt.plot(np.arange(look_back, len(train_predict) + look_back), train_predict, label='Train Predict')\n",
        "plt.plot(np.arange(len(train_predict) + (look_back * 2), len(train_predict) + (look_back * 2) + len(test_predict)), test_predict, label='Test Predict')\n",
        "plt.legend()\n",
        "plt.savefig('Train-test-predict.png')\n",
        "plt.show()"
      ],
      "metadata": {
        "colab": {
          "base_uri": "https://localhost:8080/",
          "height": 589
        },
        "id": "LHnpJ0KzcBhu",
        "outputId": "eb8d8017-214b-40c6-f9bc-ac115ec69c68"
      },
      "execution_count": 121,
      "outputs": [
        {
          "output_type": "display_data",
          "data": {
            "text/plain": [
              "<Figure size 1400x700 with 1 Axes>"
            ],
            "image/png": "[encoded data removed]"
          },
          "metadata": {}
        }
      ]
    },
    {
      "cell_type": "code",
      "source": [
        "# Forecast next 10 days\n",
        "last_look_back = dataset_scaled[-look_back:]\n",
        "future_predictions = []"
      ],
      "metadata": {
        "id": "RZiOLXl0cEKo"
      },
      "execution_count": 122,
      "outputs": []
    },
    {
      "cell_type": "code",
      "source": [
        "for i in range(10):\n",
        "    next_pred = model.predict(last_look_back.reshape(1, look_back, 1))\n",
        "    future_predictions.append(next_pred[0, 0])\n",
        "    last_look_back = np.append(last_look_back[1:], next_pred)\n",
        "    last_look_back = last_look_back.reshape(look_back, 1)  # Ensure correct shape\n",
        "\n",
        "    # Debugging statements\n",
        "    print(f\"Step {i+1}\")\n",
        "    print(f\"Next prediction: {next_pred[0, 0]}\")\n",
        "    print(f\"Updated last_look_back: {last_look_back}\")"
      ],
      "metadata": {
        "colab": {
          "base_uri": "https://localhost:8080/"
        },
        "id": "AU-axQIpcEUU",
        "outputId": "bd1603d4-429a-4a96-a3c4-6d467ad7922f"
      },
      "execution_count": 123,
      "outputs": [
        {
          "output_type": "stream",
          "name": "stdout",
          "text": [
            "1/1 [==============================] - 0s 20ms/step\n",
            "Step 1\n",
            "Next prediction: 0.5793136358261108\n",
            "Updated last_look_back: [[0.79602888]\n",
            " [0.79602888]\n",
            " [0.74187726]\n",
            " [0.22202166]\n",
            " [0.27797834]\n",
            " [0.2166065 ]\n",
            " [0.29422383]\n",
            " [0.79422383]\n",
            " [0.76895307]\n",
            " [0.57931364]]\n",
            "1/1 [==============================] - 0s 21ms/step\n",
            "Step 2\n",
            "Next prediction: 0.543779730796814\n",
            "Updated last_look_back: [[0.79602888]\n",
            " [0.74187726]\n",
            " [0.22202166]\n",
            " [0.27797834]\n",
            " [0.2166065 ]\n",
            " [0.29422383]\n",
            " [0.79422383]\n",
            " [0.76895307]\n",
            " [0.57931364]\n",
            " [0.54377973]]\n",
            "1/1 [==============================] - 0s 19ms/step\n",
            "Step 3\n",
            "Next prediction: 0.5350573062896729\n",
            "Updated last_look_back: [[0.74187726]\n",
            " [0.22202166]\n",
            " [0.27797834]\n",
            " [0.2166065 ]\n",
            " [0.29422383]\n",
            " [0.79422383]\n",
            " [0.76895307]\n",
            " [0.57931364]\n",
            " [0.54377973]\n",
            " [0.53505731]]\n",
            "1/1 [==============================] - 0s 27ms/step\n",
            "Step 4\n",
            "Next prediction: 0.5327678918838501\n",
            "Updated last_look_back: [[0.22202166]\n",
            " [0.27797834]\n",
            " [0.2166065 ]\n",
            " [0.29422383]\n",
            " [0.79422383]\n",
            " [0.76895307]\n",
            " [0.57931364]\n",
            " [0.54377973]\n",
            " [0.53505731]\n",
            " [0.53276789]]\n",
            "1/1 [==============================] - 0s 19ms/step\n",
            "Step 5\n",
            "Next prediction: 0.5326453447341919\n",
            "Updated last_look_back: [[0.27797834]\n",
            " [0.2166065 ]\n",
            " [0.29422383]\n",
            " [0.79422383]\n",
            " [0.76895307]\n",
            " [0.57931364]\n",
            " [0.54377973]\n",
            " [0.53505731]\n",
            " [0.53276789]\n",
            " [0.53264534]]\n",
            "1/1 [==============================] - 0s 21ms/step\n",
            "Step 6\n",
            "Next prediction: 0.5329924821853638\n",
            "Updated last_look_back: [[0.2166065 ]\n",
            " [0.29422383]\n",
            " [0.79422383]\n",
            " [0.76895307]\n",
            " [0.57931364]\n",
            " [0.54377973]\n",
            " [0.53505731]\n",
            " [0.53276789]\n",
            " [0.53264534]\n",
            " [0.53299248]]\n",
            "1/1 [==============================] - 0s 23ms/step\n",
            "Step 7\n",
            "Next prediction: 0.533287763595581\n",
            "Updated last_look_back: [[0.29422383]\n",
            " [0.79422383]\n",
            " [0.76895307]\n",
            " [0.57931364]\n",
            " [0.54377973]\n",
            " [0.53505731]\n",
            " [0.53276789]\n",
            " [0.53264534]\n",
            " [0.53299248]\n",
            " [0.53328776]]\n",
            "1/1 [==============================] - 0s 20ms/step\n",
            "Step 8\n",
            "Next prediction: 0.5334789752960205\n",
            "Updated last_look_back: [[0.79422383]\n",
            " [0.76895307]\n",
            " [0.57931364]\n",
            " [0.54377973]\n",
            " [0.53505731]\n",
            " [0.53276789]\n",
            " [0.53264534]\n",
            " [0.53299248]\n",
            " [0.53328776]\n",
            " [0.53347898]]\n",
            "1/1 [==============================] - 0s 31ms/step\n",
            "Step 9\n",
            "Next prediction: 0.5335724353790283\n",
            "Updated last_look_back: [[0.76895307]\n",
            " [0.57931364]\n",
            " [0.54377973]\n",
            " [0.53505731]\n",
            " [0.53276789]\n",
            " [0.53264534]\n",
            " [0.53299248]\n",
            " [0.53328776]\n",
            " [0.53347898]\n",
            " [0.53357244]]\n",
            "1/1 [==============================] - 0s 20ms/step\n",
            "Step 10\n",
            "Next prediction: 0.5335577726364136\n",
            "Updated last_look_back: [[0.57931364]\n",
            " [0.54377973]\n",
            " [0.53505731]\n",
            " [0.53276789]\n",
            " [0.53264534]\n",
            " [0.53299248]\n",
            " [0.53328776]\n",
            " [0.53347898]\n",
            " [0.53357244]\n",
            " [0.53355777]]\n"
          ]
        }
      ]
    },
    {
      "cell_type": "code",
      "source": [
        "# Inverse transform future predictions\n",
        "future_predictions = scaler.inverse_transform(np.array(future_predictions).reshape(-1, 1))\n",
        "\n",
        "print(\"Future 10 days predictions:\", future_predictions)"
      ],
      "metadata": {
        "colab": {
          "base_uri": "https://localhost:8080/"
        },
        "id": "i-jiGkX7cBs8",
        "outputId": "6458adf3-5c44-4c68-9aab-f3e53e0d59ee"
      },
      "execution_count": 124,
      "outputs": [
        {
          "output_type": "stream",
          "name": "stdout",
          "text": [
            "Future 10 days predictions: [[43.193977]\n",
            " [41.2254  ]\n",
            " [40.742176]\n",
            " [40.61534 ]\n",
            " [40.60855 ]\n",
            " [40.627785]\n",
            " [40.644142]\n",
            " [40.654736]\n",
            " [40.659912]\n",
            " [40.6591  ]]\n"
          ]
        }
      ]
    }
  ]
}